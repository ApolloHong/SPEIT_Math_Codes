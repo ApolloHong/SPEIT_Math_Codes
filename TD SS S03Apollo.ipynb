{
 "cells": [
  {
   "cell_type": "code",
   "execution_count": 34,
   "metadata": {},
   "outputs": [],
   "source": [
    "import numpy as np"
   ]
  },
  {
   "cell_type": "code",
   "execution_count": 35,
   "metadata": {},
   "outputs": [
    {
     "name": "stdout",
     "output_type": "stream",
     "text": [
      "(-1+0j)\n",
      "(1+1j)\n",
      "2j\n"
     ]
    }
   ],
   "source": [
    "# pour ecrire un complexe, on utilise la lettre j\n",
    "print(1j**2)\n",
    "c= 1+1j\n",
    "print(c)\n",
    "print(c**2)"
   ]
  },
  {
   "cell_type": "markdown",
   "metadata": {},
   "source": [
    "## Question 1:"
   ]
  },
  {
   "cell_type": "code",
   "execution_count": 7,
   "metadata": {},
   "outputs": [],
   "source": [
    "def f1(a,c,n):\n",
    "    res = a\n",
    "    _z = lambda z: z ** 2 + c\n",
    "    for _ in range(n): res = _z(res)\n",
    "    return res"
   ]
  },
  {
   "cell_type": "markdown",
   "metadata": {},
   "source": [
    "## Question 2.a"
   ]
  },
  {
   "cell_type": "markdown",
   "metadata": {},
   "source": [
    "Ecrire la réponse ici, en justifiant (en Markdown). "
   ]
  },
  {
   "attachments": {},
   "cell_type": "markdown",
   "metadata": {},
   "source": [
    "$K_0 = \\{z_n = a^{2^n}, n \\in \\mathbb{N}\\}$"
   ]
  },
  {
   "cell_type": "markdown",
   "metadata": {},
   "source": [
    "## Question 2.b"
   ]
  },
  {
   "cell_type": "markdown",
   "metadata": {},
   "source": [
    "Ecrire la réponse ici, en justifiant (en Markdown). "
   ]
  },
  {
   "cell_type": "code",
   "execution_count": 8,
   "metadata": {},
   "outputs": [
    {
     "data": {
      "image/png": "[encoded data removed]",
      "text/latex": [
       "$\\displaystyle \\left[ \\frac{1}{2} - \\frac{\\sqrt{1 - 4 c}}{2}, \\  \\frac{\\sqrt{1 - 4 c}}{2} + \\frac{1}{2}\\right]$"
      ],
      "text/plain": [
       "⎡      _________    _________    ⎤\n",
       "⎢1   ╲╱ 1 - 4⋅c   ╲╱ 1 - 4⋅c    1⎥\n",
       "⎢─ - ───────────, ─────────── + ─⎥\n",
       "⎣2        2            2        2⎦"
      ]
     },
     "execution_count": 8,
     "metadata": {},
     "output_type": "execute_result"
    }
   ],
   "source": [
    "import sympy as sp\n",
    "a, c = sp.symbols('a, c')\n",
    "sp.init_printing()\n",
    "eq = a**2+c - a\n",
    "result = sp.solve(a**2+c - a, a)\n",
    "result"
   ]
  },
  {
   "attachments": {},
   "cell_type": "markdown",
   "metadata": {},
   "source": [
    "D'ou, on peut deduire que $\\left[\\frac{1}{2}-\\frac{\\sqrt{1-4 c}}{2}, \\frac{\\sqrt{1-4 c}}{2}+\\frac{1}{2}\\right]$ sont des solution de l'equation $a^2 - a + c = 0$, pour que $z_n$ soit constante."
   ]
  },
  {
   "cell_type": "markdown",
   "metadata": {},
   "source": [
    "## Question 2.c"
   ]
  },
  {
   "cell_type": "markdown",
   "metadata": {},
   "source": [
    "Ecrire la réponse ici, en justifiant (en Markdown). "
   ]
  },
  {
   "attachments": {},
   "cell_type": "markdown",
   "metadata": {},
   "source": [
    "Bien sur quand $a \\in \\mathbb{R}, c \\geq \\frac{1}{4}$ on a $z_n \\in \\mathbb{R}$"
   ]
  },
  {
   "cell_type": "code",
   "execution_count": 5,
   "metadata": {},
   "outputs": [
    {
     "name": "stdout",
     "output_type": "stream",
     "text": [
      "[1, 2, 3]\n"
     ]
    }
   ],
   "source": [
    "# import sympy as sp\n",
    "# a, c, n = sp.symbols('a c n')\n",
    "# z = sp.symbols('z')\n",
    "# sp.init_printing()\n",
    "# lst = []\n",
    "\n",
    "# for _ in range(10):\n",
    "#     z = f1(n=_, a=a, c=c)\n",
    "#     lst.append(z)\n",
    "\n",
    "# # import matplotlib.pyplot as plt\n",
    "# # plt.plot(lst)\n",
    "# # plt.show()\n",
    "# # lst"
   ]
  },
  {
   "attachments": {},
   "cell_type": "markdown",
   "metadata": {},
   "source": [
    "On montre par recurrence, que $z_n \\in \\mathbb{R}$ pour tout $n \\in \\mathbb{N}$\n",
    "\n",
    "En effet: $z_{n+1} = z_{n}^{2} + c > \\frac{1}{4}$ c'est-a-dire $z_{n} > 0$\n",
    "\n",
    "$z_{n+1} - z_{n} = z_{n}^2 - z_{n-1}^2 = (z_{n} - z_{n-1}) (z_{n} + z_{n-1})$\n",
    "\n",
    "avec $(z_{n} + z_{n-1}) > 0$\n",
    "\n",
    "Initialization: $z_{1}- z_{0} = a^2 - a + c \\leq c - \\frac{1}{4} > 0$ \n",
    "\n",
    "Heredite: soit pour $n \\in \\mathbb{N}$ tel que $z_{n}- z_{n-1} > 0$ alors $z_{n+1}- z_{n} = (z_{n} - z_{n-1}) (z_{n} + z_{n-1}) > 0$\n",
    "\n",
    "Conclusion: $z_{n}- z_{n-1} > 0$ pour tout $n \\in \\mathbb{N}$"
   ]
  },
  {
   "cell_type": "markdown",
   "metadata": {},
   "source": [
    "## Question 3"
   ]
  },
  {
   "cell_type": "markdown",
   "metadata": {},
   "source": [
    "Ecrire la réponse ici, en justifiant (en Markdown). "
   ]
  },
  {
   "attachments": {},
   "cell_type": "markdown",
   "metadata": {},
   "source": [
    "Method 1:\n",
    "\n",
    "$f_1^{'}(x) = 2 x > 0,  pour \\ x>0$\n",
    "\n",
    "s'il existe $n_{0} \\in \\mathbb{N}$ tel que $\\left|z_{n_{0}}\\right| \\geq|c|+1$, \n",
    "\n",
    "alors, $f_1^{'}(x) = 2 x > 1$ \n",
    "\n",
    "alors la suite n'est pas contractnate d'ou n'est pas bornee.\n",
    "\n",
    "Method 2:\n",
    "\n",
    "On veut montrer par contradiction que $z_n$ n'est pas bornée quand $\\left|z_{n}\\right|<|c|+1$.\n",
    "\n",
    "Supposons que $z_n$ est bornée\n",
    "\n",
    "Alors il existe $M \\in \\mathbb{R}_{+}^{*}$ pour que:\n",
    "\n",
    "$\\forall 0 < \\epsilon \\leq M, \\exists N \\in \\mathbb{N}$ pour tout $n > N$, tel que $M - \\epsilon < |z_n| < M$ \n",
    "\n",
    "On veut ensuite montre que $M > |c| + 1$.\n",
    "\n",
    "c'est-a-dire $M > 1, M ^2 > M$\n",
    "\n",
    "Alors on a $M - \\epsilon > |c| + 1 - \\epsilon > |c|$\n",
    "\n",
    "On a $|z_{n+1}| = |z_{n}^2 + c| \\geq |z_{n}^2| - |c| \\geq (M - \\epsilon)^2 - |c| > M - |c| > |c|$\n",
    "\n",
    "......"
   ]
  },
  {
   "cell_type": "markdown",
   "metadata": {},
   "source": [
    "## Question 4.a"
   ]
  },
  {
   "cell_type": "code",
   "execution_count": 6,
   "metadata": {},
   "outputs": [],
   "source": [
    "def suite(a,c,n):\n",
    "    ell=[a]\n",
    "    for _ in range(1,n+1): ell.append(f1(n=_, a=a, c=c))\n",
    "    return(ell)"
   ]
  },
  {
   "cell_type": "markdown",
   "metadata": {},
   "source": [
    "## Question 4.b"
   ]
  },
  {
   "cell_type": "code",
   "execution_count": 19,
   "metadata": {},
   "outputs": [],
   "source": [
    "def Julia(a,c,n):\n",
    "    y=a\n",
    "    b=True\n",
    "    k=0\n",
    "    M=abs(c)+1\n",
    "    \n",
    "    while b or (k > n):\n",
    "        y = f1(n=k, a=y, c=c)\n",
    "        b = abs(y) - M <= 0 \n",
    "        k += 1\n",
    "\n",
    "    return(k)\n"
   ]
  },
  {
   "cell_type": "markdown",
   "metadata": {},
   "source": [
    "## Question 4.c"
   ]
  },
  {
   "cell_type": "code",
   "execution_count": 17,
   "metadata": {},
   "outputs": [],
   "source": [
    "import numpy as np\n",
    "def image(c):\n",
    "    tableau = np.zeros((401,401))\n",
    "    x, y = np.arange(-200,201).reshape(-1,1)/100, np.arange(-200,201).reshape(-1,1)/100\n",
    "    a = lambda x,y : x + y* 1j\n",
    "    for i in range(tableau.shape[0]): \n",
    "        for j in range(tableau.shape[1]):\n",
    "            tableau[i,j] = Julia(a=a(x[j, :], y[j, :]), c=c, n=200)\n",
    "    return tableau"
   ]
  },
  {
   "cell_type": "markdown",
   "metadata": {},
   "source": [
    "## Question 4.d"
   ]
  },
  {
   "cell_type": "code",
   "execution_count": 22,
   "metadata": {},
   "outputs": [
    {
     "ename": "KeyboardInterrupt",
     "evalue": "",
     "output_type": "error",
     "traceback": [
      "\u001b[1;31m---------------------------------------------------------------------------\u001b[0m",
      "\u001b[1;31mKeyboardInterrupt\u001b[0m                         Traceback (most recent call last)",
      "\u001b[1;32mc:\\Users\\xiaohong\\Desktop\\数学物理化学\\数学\\代码\\TD SS S03.ipynb 单元格 27\u001b[0m in \u001b[0;36m<cell line: 4>\u001b[1;34m()\u001b[0m\n\u001b[0;32m      <a href='vscode-notebook-cell:/c%3A/Users/xiaohong/Desktop/%E6%95%B0%E5%AD%A6%E7%89%A9%E7%90%86%E5%8C%96%E5%AD%A6/%E6%95%B0%E5%AD%A6/%E4%BB%A3%E7%A0%81/TD%20SS%20S03.ipynb#X25sZmlsZQ%3D%3D?line=0'>1</a>\u001b[0m c \u001b[39m=\u001b[39m \u001b[39m-\u001b[39m\u001b[39m0.8\u001b[39m\u001b[39m+\u001b[39m\u001b[39m0.156\u001b[39mj\n\u001b[0;32m      <a href='vscode-notebook-cell:/c%3A/Users/xiaohong/Desktop/%E6%95%B0%E5%AD%A6%E7%89%A9%E7%90%86%E5%8C%96%E5%AD%A6/%E6%95%B0%E5%AD%A6/%E4%BB%A3%E7%A0%81/TD%20SS%20S03.ipynb#X25sZmlsZQ%3D%3D?line=2'>3</a>\u001b[0m c \u001b[39m=\u001b[39m \u001b[39m0\u001b[39m \u001b[39m+\u001b[39m \u001b[39m0\u001b[39m\n\u001b[1;32m----> <a href='vscode-notebook-cell:/c%3A/Users/xiaohong/Desktop/%E6%95%B0%E5%AD%A6%E7%89%A9%E7%90%86%E5%8C%96%E5%AD%A6/%E6%95%B0%E5%AD%A6/%E4%BB%A3%E7%A0%81/TD%20SS%20S03.ipynb#X25sZmlsZQ%3D%3D?line=3'>4</a>\u001b[0m tableau \u001b[39m=\u001b[39m image(c)\n\u001b[0;32m      <a href='vscode-notebook-cell:/c%3A/Users/xiaohong/Desktop/%E6%95%B0%E5%AD%A6%E7%89%A9%E7%90%86%E5%8C%96%E5%AD%A6/%E6%95%B0%E5%AD%A6/%E4%BB%A3%E7%A0%81/TD%20SS%20S03.ipynb#X25sZmlsZQ%3D%3D?line=4'>5</a>\u001b[0m tableau\n",
      "\u001b[1;32mc:\\Users\\xiaohong\\Desktop\\数学物理化学\\数学\\代码\\TD SS S03.ipynb 单元格 27\u001b[0m in \u001b[0;36mimage\u001b[1;34m(c)\u001b[0m\n\u001b[0;32m      <a href='vscode-notebook-cell:/c%3A/Users/xiaohong/Desktop/%E6%95%B0%E5%AD%A6%E7%89%A9%E7%90%86%E5%8C%96%E5%AD%A6/%E6%95%B0%E5%AD%A6/%E4%BB%A3%E7%A0%81/TD%20SS%20S03.ipynb#X25sZmlsZQ%3D%3D?line=5'>6</a>\u001b[0m \u001b[39mfor\u001b[39;00m i \u001b[39min\u001b[39;00m \u001b[39mrange\u001b[39m(tableau\u001b[39m.\u001b[39mshape[\u001b[39m0\u001b[39m]): \n\u001b[0;32m      <a href='vscode-notebook-cell:/c%3A/Users/xiaohong/Desktop/%E6%95%B0%E5%AD%A6%E7%89%A9%E7%90%86%E5%8C%96%E5%AD%A6/%E6%95%B0%E5%AD%A6/%E4%BB%A3%E7%A0%81/TD%20SS%20S03.ipynb#X25sZmlsZQ%3D%3D?line=6'>7</a>\u001b[0m     \u001b[39mfor\u001b[39;00m j \u001b[39min\u001b[39;00m \u001b[39mrange\u001b[39m(tableau\u001b[39m.\u001b[39mshape[\u001b[39m1\u001b[39m]):\n\u001b[1;32m----> <a href='vscode-notebook-cell:/c%3A/Users/xiaohong/Desktop/%E6%95%B0%E5%AD%A6%E7%89%A9%E7%90%86%E5%8C%96%E5%AD%A6/%E6%95%B0%E5%AD%A6/%E4%BB%A3%E7%A0%81/TD%20SS%20S03.ipynb#X25sZmlsZQ%3D%3D?line=7'>8</a>\u001b[0m         tableau[i,j] \u001b[39m=\u001b[39m Julia(a\u001b[39m=\u001b[39;49ma(x[j, :], y[j, :]), c\u001b[39m=\u001b[39;49mc, n\u001b[39m=\u001b[39;49m\u001b[39m200\u001b[39;49m)\n\u001b[0;32m      <a href='vscode-notebook-cell:/c%3A/Users/xiaohong/Desktop/%E6%95%B0%E5%AD%A6%E7%89%A9%E7%90%86%E5%8C%96%E5%AD%A6/%E6%95%B0%E5%AD%A6/%E4%BB%A3%E7%A0%81/TD%20SS%20S03.ipynb#X25sZmlsZQ%3D%3D?line=8'>9</a>\u001b[0m \u001b[39mreturn\u001b[39;00m tableau\n",
      "\u001b[1;32mc:\\Users\\xiaohong\\Desktop\\数学物理化学\\数学\\代码\\TD SS S03.ipynb 单元格 27\u001b[0m in \u001b[0;36mJulia\u001b[1;34m(a, c, n)\u001b[0m\n\u001b[0;32m      <a href='vscode-notebook-cell:/c%3A/Users/xiaohong/Desktop/%E6%95%B0%E5%AD%A6%E7%89%A9%E7%90%86%E5%8C%96%E5%AD%A6/%E6%95%B0%E5%AD%A6/%E4%BB%A3%E7%A0%81/TD%20SS%20S03.ipynb#X25sZmlsZQ%3D%3D?line=4'>5</a>\u001b[0m M\u001b[39m=\u001b[39m\u001b[39mabs\u001b[39m(c)\u001b[39m+\u001b[39m\u001b[39m1\u001b[39m\n\u001b[0;32m      <a href='vscode-notebook-cell:/c%3A/Users/xiaohong/Desktop/%E6%95%B0%E5%AD%A6%E7%89%A9%E7%90%86%E5%8C%96%E5%AD%A6/%E6%95%B0%E5%AD%A6/%E4%BB%A3%E7%A0%81/TD%20SS%20S03.ipynb#X25sZmlsZQ%3D%3D?line=6'>7</a>\u001b[0m \u001b[39mwhile\u001b[39;00m b \u001b[39mor\u001b[39;00m (k \u001b[39m>\u001b[39m n):\n\u001b[1;32m----> <a href='vscode-notebook-cell:/c%3A/Users/xiaohong/Desktop/%E6%95%B0%E5%AD%A6%E7%89%A9%E7%90%86%E5%8C%96%E5%AD%A6/%E6%95%B0%E5%AD%A6/%E4%BB%A3%E7%A0%81/TD%20SS%20S03.ipynb#X25sZmlsZQ%3D%3D?line=7'>8</a>\u001b[0m     y \u001b[39m=\u001b[39m f1(n\u001b[39m=\u001b[39;49mk, a\u001b[39m=\u001b[39;49ma, c\u001b[39m=\u001b[39;49mc)\n\u001b[0;32m      <a href='vscode-notebook-cell:/c%3A/Users/xiaohong/Desktop/%E6%95%B0%E5%AD%A6%E7%89%A9%E7%90%86%E5%8C%96%E5%AD%A6/%E6%95%B0%E5%AD%A6/%E4%BB%A3%E7%A0%81/TD%20SS%20S03.ipynb#X25sZmlsZQ%3D%3D?line=8'>9</a>\u001b[0m     b \u001b[39m=\u001b[39m \u001b[39mabs\u001b[39m(y) \u001b[39m-\u001b[39m M \u001b[39m<\u001b[39m\u001b[39m=\u001b[39m \u001b[39m0\u001b[39m \n\u001b[0;32m     <a href='vscode-notebook-cell:/c%3A/Users/xiaohong/Desktop/%E6%95%B0%E5%AD%A6%E7%89%A9%E7%90%86%E5%8C%96%E5%AD%A6/%E6%95%B0%E5%AD%A6/%E4%BB%A3%E7%A0%81/TD%20SS%20S03.ipynb#X25sZmlsZQ%3D%3D?line=9'>10</a>\u001b[0m     k \u001b[39m+\u001b[39m\u001b[39m=\u001b[39m \u001b[39m1\u001b[39m\n",
      "\u001b[1;32mc:\\Users\\xiaohong\\Desktop\\数学物理化学\\数学\\代码\\TD SS S03.ipynb 单元格 27\u001b[0m in \u001b[0;36mf1\u001b[1;34m(a, c, n)\u001b[0m\n\u001b[0;32m      <a href='vscode-notebook-cell:/c%3A/Users/xiaohong/Desktop/%E6%95%B0%E5%AD%A6%E7%89%A9%E7%90%86%E5%8C%96%E5%AD%A6/%E6%95%B0%E5%AD%A6/%E4%BB%A3%E7%A0%81/TD%20SS%20S03.ipynb#X25sZmlsZQ%3D%3D?line=1'>2</a>\u001b[0m res \u001b[39m=\u001b[39m a\n\u001b[0;32m      <a href='vscode-notebook-cell:/c%3A/Users/xiaohong/Desktop/%E6%95%B0%E5%AD%A6%E7%89%A9%E7%90%86%E5%8C%96%E5%AD%A6/%E6%95%B0%E5%AD%A6/%E4%BB%A3%E7%A0%81/TD%20SS%20S03.ipynb#X25sZmlsZQ%3D%3D?line=2'>3</a>\u001b[0m _z \u001b[39m=\u001b[39m \u001b[39mlambda\u001b[39;00m z: z \u001b[39m*\u001b[39m\u001b[39m*\u001b[39m \u001b[39m2\u001b[39m \u001b[39m+\u001b[39m c\n\u001b[1;32m----> <a href='vscode-notebook-cell:/c%3A/Users/xiaohong/Desktop/%E6%95%B0%E5%AD%A6%E7%89%A9%E7%90%86%E5%8C%96%E5%AD%A6/%E6%95%B0%E5%AD%A6/%E4%BB%A3%E7%A0%81/TD%20SS%20S03.ipynb#X25sZmlsZQ%3D%3D?line=3'>4</a>\u001b[0m \u001b[39mfor\u001b[39;00m _ \u001b[39min\u001b[39;00m \u001b[39mrange\u001b[39m(n): res \u001b[39m=\u001b[39m _z(res)\n\u001b[0;32m      <a href='vscode-notebook-cell:/c%3A/Users/xiaohong/Desktop/%E6%95%B0%E5%AD%A6%E7%89%A9%E7%90%86%E5%8C%96%E5%AD%A6/%E6%95%B0%E5%AD%A6/%E4%BB%A3%E7%A0%81/TD%20SS%20S03.ipynb#X25sZmlsZQ%3D%3D?line=4'>5</a>\u001b[0m \u001b[39mreturn\u001b[39;00m res\n",
      "\u001b[1;31mKeyboardInterrupt\u001b[0m: "
     ]
    }
   ],
   "source": [
    "c = -0.8+0.156j\n",
    "\n",
    "tableau = image(c)\n",
    "tableau\n",
    "# a little slow so i rewrite another efficient code."
   ]
  },
  {
   "cell_type": "markdown",
   "metadata": {},
   "source": [
    "## Question 4.e"
   ]
  },
  {
   "cell_type": "code",
   "execution_count": 10,
   "metadata": {},
   "outputs": [],
   "source": [
    "import matplotlib.pyplot as plt"
   ]
  },
  {
   "cell_type": "code",
   "execution_count": 21,
   "metadata": {},
   "outputs": [
    {
     "name": "stderr",
     "output_type": "stream",
     "text": [
      "C:\\Users\\Apollo\\AppData\\Local\\Temp\\ipykernel_30452\\968892290.py:3: RuntimeWarning: overflow encountered in square\n",
      "  _z = lambda z: z ** 2 + c\n",
      "C:\\Users\\Apollo\\AppData\\Local\\Temp\\ipykernel_30452\\968892290.py:3: RuntimeWarning: invalid value encountered in square\n",
      "  _z = lambda z: z ** 2 + c\n"
     ]
    },
    {
     "ename": "KeyboardInterrupt",
     "evalue": "",
     "output_type": "error",
     "traceback": [
      "\u001b[1;31m---------------------------------------------------------------------------\u001b[0m",
      "\u001b[1;31mKeyboardInterrupt\u001b[0m                         Traceback (most recent call last)",
      "\u001b[1;32mc:\\Users\\xiaohong\\Desktop\\数学物理化学\\数学\\代码\\TD SS S03.ipynb 单元格 30\u001b[0m in \u001b[0;36m<cell line: 1>\u001b[1;34m()\u001b[0m\n\u001b[1;32m----> <a href='vscode-notebook-cell:/c%3A/Users/xiaohong/Desktop/%E6%95%B0%E5%AD%A6%E7%89%A9%E7%90%86%E5%8C%96%E5%AD%A6/%E6%95%B0%E5%AD%A6/%E4%BB%A3%E7%A0%81/TD%20SS%20S03.ipynb#X31sZmlsZQ%3D%3D?line=0'>1</a>\u001b[0m A \u001b[39m=\u001b[39m image(\u001b[39m-\u001b[39;49m\u001b[39m0.8\u001b[39;49m\u001b[39m+\u001b[39;49m\u001b[39m0.156\u001b[39;49mj)\n\u001b[0;32m      <a href='vscode-notebook-cell:/c%3A/Users/xiaohong/Desktop/%E6%95%B0%E5%AD%A6%E7%89%A9%E7%90%86%E5%8C%96%E5%AD%A6/%E6%95%B0%E5%AD%A6/%E4%BB%A3%E7%A0%81/TD%20SS%20S03.ipynb#X31sZmlsZQ%3D%3D?line=2'>3</a>\u001b[0m plt\u001b[39m.\u001b[39mfigure(figsize\u001b[39m=\u001b[39m(\u001b[39m25\u001b[39m,\u001b[39m25\u001b[39m))\n\u001b[0;32m      <a href='vscode-notebook-cell:/c%3A/Users/xiaohong/Desktop/%E6%95%B0%E5%AD%A6%E7%89%A9%E7%90%86%E5%8C%96%E5%AD%A6/%E6%95%B0%E5%AD%A6/%E4%BB%A3%E7%A0%81/TD%20SS%20S03.ipynb#X31sZmlsZQ%3D%3D?line=3'>4</a>\u001b[0m plt\u001b[39m.\u001b[39mimshow(A)\n",
      "\u001b[1;32mc:\\Users\\xiaohong\\Desktop\\数学物理化学\\数学\\代码\\TD SS S03.ipynb 单元格 30\u001b[0m in \u001b[0;36mimage\u001b[1;34m(c)\u001b[0m\n\u001b[0;32m      <a href='vscode-notebook-cell:/c%3A/Users/xiaohong/Desktop/%E6%95%B0%E5%AD%A6%E7%89%A9%E7%90%86%E5%8C%96%E5%AD%A6/%E6%95%B0%E5%AD%A6/%E4%BB%A3%E7%A0%81/TD%20SS%20S03.ipynb#X31sZmlsZQ%3D%3D?line=5'>6</a>\u001b[0m \u001b[39mfor\u001b[39;00m i \u001b[39min\u001b[39;00m \u001b[39mrange\u001b[39m(tableau\u001b[39m.\u001b[39mshape[\u001b[39m0\u001b[39m]): \n\u001b[0;32m      <a href='vscode-notebook-cell:/c%3A/Users/xiaohong/Desktop/%E6%95%B0%E5%AD%A6%E7%89%A9%E7%90%86%E5%8C%96%E5%AD%A6/%E6%95%B0%E5%AD%A6/%E4%BB%A3%E7%A0%81/TD%20SS%20S03.ipynb#X31sZmlsZQ%3D%3D?line=6'>7</a>\u001b[0m     \u001b[39mfor\u001b[39;00m j \u001b[39min\u001b[39;00m \u001b[39mrange\u001b[39m(tableau\u001b[39m.\u001b[39mshape[\u001b[39m1\u001b[39m]):\n\u001b[1;32m----> <a href='vscode-notebook-cell:/c%3A/Users/xiaohong/Desktop/%E6%95%B0%E5%AD%A6%E7%89%A9%E7%90%86%E5%8C%96%E5%AD%A6/%E6%95%B0%E5%AD%A6/%E4%BB%A3%E7%A0%81/TD%20SS%20S03.ipynb#X31sZmlsZQ%3D%3D?line=7'>8</a>\u001b[0m         tableau[i,j] \u001b[39m=\u001b[39m Julia(a\u001b[39m=\u001b[39;49ma(x[j, :], y[j, :]), c\u001b[39m=\u001b[39;49mc, n\u001b[39m=\u001b[39;49m\u001b[39m200\u001b[39;49m)\n\u001b[0;32m      <a href='vscode-notebook-cell:/c%3A/Users/xiaohong/Desktop/%E6%95%B0%E5%AD%A6%E7%89%A9%E7%90%86%E5%8C%96%E5%AD%A6/%E6%95%B0%E5%AD%A6/%E4%BB%A3%E7%A0%81/TD%20SS%20S03.ipynb#X31sZmlsZQ%3D%3D?line=8'>9</a>\u001b[0m \u001b[39mreturn\u001b[39;00m tableau\n",
      "\u001b[1;32mc:\\Users\\xiaohong\\Desktop\\数学物理化学\\数学\\代码\\TD SS S03.ipynb 单元格 30\u001b[0m in \u001b[0;36mJulia\u001b[1;34m(a, c, n)\u001b[0m\n\u001b[0;32m      <a href='vscode-notebook-cell:/c%3A/Users/xiaohong/Desktop/%E6%95%B0%E5%AD%A6%E7%89%A9%E7%90%86%E5%8C%96%E5%AD%A6/%E6%95%B0%E5%AD%A6/%E4%BB%A3%E7%A0%81/TD%20SS%20S03.ipynb#X31sZmlsZQ%3D%3D?line=4'>5</a>\u001b[0m M\u001b[39m=\u001b[39m\u001b[39mabs\u001b[39m(c)\u001b[39m+\u001b[39m\u001b[39m1\u001b[39m\n\u001b[0;32m      <a href='vscode-notebook-cell:/c%3A/Users/xiaohong/Desktop/%E6%95%B0%E5%AD%A6%E7%89%A9%E7%90%86%E5%8C%96%E5%AD%A6/%E6%95%B0%E5%AD%A6/%E4%BB%A3%E7%A0%81/TD%20SS%20S03.ipynb#X31sZmlsZQ%3D%3D?line=6'>7</a>\u001b[0m \u001b[39mwhile\u001b[39;00m b \u001b[39mor\u001b[39;00m (k \u001b[39m>\u001b[39m n):\n\u001b[1;32m----> <a href='vscode-notebook-cell:/c%3A/Users/xiaohong/Desktop/%E6%95%B0%E5%AD%A6%E7%89%A9%E7%90%86%E5%8C%96%E5%AD%A6/%E6%95%B0%E5%AD%A6/%E4%BB%A3%E7%A0%81/TD%20SS%20S03.ipynb#X31sZmlsZQ%3D%3D?line=7'>8</a>\u001b[0m     y \u001b[39m=\u001b[39m f1(n\u001b[39m=\u001b[39;49mk, a\u001b[39m=\u001b[39;49ma, c\u001b[39m=\u001b[39;49mc)\n\u001b[0;32m      <a href='vscode-notebook-cell:/c%3A/Users/xiaohong/Desktop/%E6%95%B0%E5%AD%A6%E7%89%A9%E7%90%86%E5%8C%96%E5%AD%A6/%E6%95%B0%E5%AD%A6/%E4%BB%A3%E7%A0%81/TD%20SS%20S03.ipynb#X31sZmlsZQ%3D%3D?line=8'>9</a>\u001b[0m     b \u001b[39m=\u001b[39m \u001b[39mabs\u001b[39m(y) \u001b[39m-\u001b[39m M \u001b[39m<\u001b[39m\u001b[39m=\u001b[39m \u001b[39m0\u001b[39m \n\u001b[0;32m     <a href='vscode-notebook-cell:/c%3A/Users/xiaohong/Desktop/%E6%95%B0%E5%AD%A6%E7%89%A9%E7%90%86%E5%8C%96%E5%AD%A6/%E6%95%B0%E5%AD%A6/%E4%BB%A3%E7%A0%81/TD%20SS%20S03.ipynb#X31sZmlsZQ%3D%3D?line=9'>10</a>\u001b[0m     k \u001b[39m+\u001b[39m\u001b[39m=\u001b[39m \u001b[39m1\u001b[39m\n",
      "\u001b[1;32mc:\\Users\\xiaohong\\Desktop\\数学物理化学\\数学\\代码\\TD SS S03.ipynb 单元格 30\u001b[0m in \u001b[0;36mf1\u001b[1;34m(a, c, n)\u001b[0m\n\u001b[0;32m      <a href='vscode-notebook-cell:/c%3A/Users/xiaohong/Desktop/%E6%95%B0%E5%AD%A6%E7%89%A9%E7%90%86%E5%8C%96%E5%AD%A6/%E6%95%B0%E5%AD%A6/%E4%BB%A3%E7%A0%81/TD%20SS%20S03.ipynb#X31sZmlsZQ%3D%3D?line=1'>2</a>\u001b[0m res \u001b[39m=\u001b[39m a\n\u001b[0;32m      <a href='vscode-notebook-cell:/c%3A/Users/xiaohong/Desktop/%E6%95%B0%E5%AD%A6%E7%89%A9%E7%90%86%E5%8C%96%E5%AD%A6/%E6%95%B0%E5%AD%A6/%E4%BB%A3%E7%A0%81/TD%20SS%20S03.ipynb#X31sZmlsZQ%3D%3D?line=2'>3</a>\u001b[0m _z \u001b[39m=\u001b[39m \u001b[39mlambda\u001b[39;00m z: z \u001b[39m*\u001b[39m\u001b[39m*\u001b[39m \u001b[39m2\u001b[39m \u001b[39m+\u001b[39m c\n\u001b[1;32m----> <a href='vscode-notebook-cell:/c%3A/Users/xiaohong/Desktop/%E6%95%B0%E5%AD%A6%E7%89%A9%E7%90%86%E5%8C%96%E5%AD%A6/%E6%95%B0%E5%AD%A6/%E4%BB%A3%E7%A0%81/TD%20SS%20S03.ipynb#X31sZmlsZQ%3D%3D?line=3'>4</a>\u001b[0m \u001b[39mfor\u001b[39;00m _ \u001b[39min\u001b[39;00m \u001b[39mrange\u001b[39m(n): res \u001b[39m=\u001b[39m _z(res)\n\u001b[0;32m      <a href='vscode-notebook-cell:/c%3A/Users/xiaohong/Desktop/%E6%95%B0%E5%AD%A6%E7%89%A9%E7%90%86%E5%8C%96%E5%AD%A6/%E6%95%B0%E5%AD%A6/%E4%BB%A3%E7%A0%81/TD%20SS%20S03.ipynb#X31sZmlsZQ%3D%3D?line=4'>5</a>\u001b[0m \u001b[39mreturn\u001b[39;00m res\n",
      "\u001b[1;31mKeyboardInterrupt\u001b[0m: "
     ]
    }
   ],
   "source": [
    "A = image(-0.8+0.156j)\n",
    "\n",
    "plt.figure(figsize=(25,25))\n",
    "plt.imshow(A)\n",
    "plt.colorbar()\n",
    "plt.show()\n",
    "\n",
    "# a little slow so i rewrite another efficient code."
   ]
  },
  {
   "cell_type": "code",
   "execution_count": 33,
   "metadata": {},
   "outputs": [],
   "source": [
    "# A cause de la computation complexite. On symplifier le code comme desous: \n",
    "# complexity from O(n^2) to O(n)\n",
    "\n",
    "\n",
    "def Julia_apolloid(a,c,n):\n",
    "    y=a\n",
    "    M=abs(c)+1\n",
    "    \n",
    "    for k in range(1, n):\n",
    "        y = y ** 2 + c\n",
    "        if abs(y) - M > 0:\n",
    "            return k-1\n",
    "        else:\n",
    "            pass\n",
    "    return n\n",
    "\n",
    "def image_apolloid(c):\n",
    "    tableau = np.zeros((401,401))\n",
    "    x, y = np.arange(-200,201).reshape(-1,1)/100, np.arange(-200,201).reshape(-1,1)/100\n",
    "    a = lambda x,y : x + y* 1j\n",
    "    for i in range(tableau.shape[0]): \n",
    "        for j in range(tableau.shape[1]):\n",
    "            tableau[i,j] = Julia_apolloid(a=a(x[j, :], y[j, :]), c=c, n=200)\n",
    "    return tableau"
   ]
  },
  {
   "cell_type": "code",
   "execution_count": 34,
   "metadata": {},
   "outputs": [
    {
     "data": {
      "text/plain": [
       "array([[0., 0., 0., ..., 0., 0., 0.],\n",
       "       [0., 0., 0., ..., 0., 0., 0.],\n",
       "       [0., 0., 0., ..., 0., 0., 0.],\n",
       "       ...,\n",
       "       [0., 0., 0., ..., 0., 0., 0.],\n",
       "       [0., 0., 0., ..., 0., 0., 0.],\n",
       "       [0., 0., 0., ..., 0., 0., 0.]])"
      ]
     },
     "execution_count": 34,
     "metadata": {},
     "output_type": "execute_result"
    }
   ],
   "source": [
    "c = -0.8+0.156j\n",
    "\n",
    "tableau = image_apolloid(c)\n",
    "tableau"
   ]
  },
  {
   "cell_type": "code",
   "execution_count": 36,
   "metadata": {},
   "outputs": [
    {
     "data": {
      "image/png": "[encoded data removed]",
      "text/plain": [
       "<Figure size 1800x1800 with 2 Axes>"
      ]
     },
     "metadata": {
      "needs_background": "light"
     },
     "output_type": "display_data"
    }
   ],
   "source": [
    "import matplotlib.pyplot as plt\n",
    "A = image_apolloid(-0.8+0.156j)\n",
    "\n",
    "plt.figure(figsize=(25,25))\n",
    "plt.imshow(A)\n",
    "plt.colorbar()\n",
    "plt.show()"
   ]
  },
  {
   "cell_type": "code",
   "execution_count": null,
   "metadata": {},
   "outputs": [],
   "source": []
  }
 ],
 "metadata": {
  "hide_input": false,
  "kernelspec": {
   "display_name": "Python 3 (ipykernel)",
   "language": "python",
   "name": "python3"
  },
  "language_info": {
   "codemirror_mode": {
    "name": "ipython",
    "version": 3
   },
   "file_extension": ".py",
   "mimetype": "text/x-python",
   "name": "python",
   "nbconvert_exporter": "python",
   "pygments_lexer": "ipython3",
   "version": "3.9.12"
  },
  "toc": {
   "colors": {
    "hover_highlight": "#DAA520",
    "navigate_num": "#000000",
    "navigate_text": "#333333",
    "running_highlight": "#FF0000",
    "selected_highlight": "#FFD700",
    "sidebar_border": "#EEEEEE",
    "wrapper_background": "#FFFFFF"
   },
   "moveMenuLeft": true,
   "nav_menu": {
    "height": "12px",
    "width": "252px"
   },
   "navigate_menu": true,
   "number_sections": true,
   "sideBar": true,
   "threshold": 4,
   "toc_cell": false,
   "toc_section_display": "block",
   "toc_window_display": false,
   "widenNotebook": false
  }
 },
 "nbformat": 4,
 "nbformat_minor": 4
}
